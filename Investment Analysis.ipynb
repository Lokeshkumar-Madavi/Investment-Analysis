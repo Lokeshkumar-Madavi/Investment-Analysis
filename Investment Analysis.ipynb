{
 "cells": [
  {
   "cell_type": "markdown",
   "id": "443968c1-ad54-417c-8d6c-4646f186117a",
   "metadata": {},
   "source": [
    "# Investment Avenue Analysis"
   ]
  },
  {
   "cell_type": "code",
   "execution_count": 1,
   "id": "31a90a10-4b35-4cca-9f07-50a8c72bcda9",
   "metadata": {},
   "outputs": [],
   "source": [
    "import numpy as np\n",
    "import pandas as pd\n",
    "import matplotlib.pyplot as plt\n",
    "import seaborn as sns"
   ]
  },
  {
   "cell_type": "markdown",
   "id": "08b54a8b-e8f7-4b9d-85be-fac3201dfd06",
   "metadata": {},
   "source": [
    "## 1. Data Overview"
   ]
  },
  {
   "cell_type": "code",
   "execution_count": 2,
   "id": "13577f66-6fd8-4622-92c4-126e476df964",
   "metadata": {},
   "outputs": [
    {
     "data": {
      "text/html": [
       "<div>\n",
       "<style scoped>\n",
       "    .dataframe tbody tr th:only-of-type {\n",
       "        vertical-align: middle;\n",
       "    }\n",
       "\n",
       "    .dataframe tbody tr th {\n",
       "        vertical-align: top;\n",
       "    }\n",
       "\n",
       "    .dataframe thead th {\n",
       "        text-align: right;\n",
       "    }\n",
       "</style>\n",
       "<table border=\"1\" class=\"dataframe\">\n",
       "  <thead>\n",
       "    <tr style=\"text-align: right;\">\n",
       "      <th></th>\n",
       "      <th>gender</th>\n",
       "      <th>age</th>\n",
       "      <th>Investment_Avenues</th>\n",
       "      <th>Mutual_Funds</th>\n",
       "      <th>Equity_Market</th>\n",
       "      <th>Debentures</th>\n",
       "      <th>Government_Bonds</th>\n",
       "      <th>Fixed_Deposits</th>\n",
       "      <th>PPF</th>\n",
       "      <th>Gold</th>\n",
       "      <th>...</th>\n",
       "      <th>Duration</th>\n",
       "      <th>Invest_Monitor</th>\n",
       "      <th>Expect</th>\n",
       "      <th>Avenue</th>\n",
       "      <th>What are your savings objectives?</th>\n",
       "      <th>Reason_Equity</th>\n",
       "      <th>Reason_Mutual</th>\n",
       "      <th>Reason_Bonds</th>\n",
       "      <th>Reason_FD</th>\n",
       "      <th>Source</th>\n",
       "    </tr>\n",
       "  </thead>\n",
       "  <tbody>\n",
       "    <tr>\n",
       "      <th>0</th>\n",
       "      <td>Female</td>\n",
       "      <td>34</td>\n",
       "      <td>Yes</td>\n",
       "      <td>1</td>\n",
       "      <td>2</td>\n",
       "      <td>5</td>\n",
       "      <td>3</td>\n",
       "      <td>7</td>\n",
       "      <td>6</td>\n",
       "      <td>4</td>\n",
       "      <td>...</td>\n",
       "      <td>1-3 years</td>\n",
       "      <td>Monthly</td>\n",
       "      <td>20%-30%</td>\n",
       "      <td>Mutual Fund</td>\n",
       "      <td>Retirement Plan</td>\n",
       "      <td>Capital Appreciation</td>\n",
       "      <td>Better Returns</td>\n",
       "      <td>Safe Investment</td>\n",
       "      <td>Fixed Returns</td>\n",
       "      <td>Newspapers and Magazines</td>\n",
       "    </tr>\n",
       "    <tr>\n",
       "      <th>1</th>\n",
       "      <td>Female</td>\n",
       "      <td>23</td>\n",
       "      <td>Yes</td>\n",
       "      <td>4</td>\n",
       "      <td>3</td>\n",
       "      <td>2</td>\n",
       "      <td>1</td>\n",
       "      <td>5</td>\n",
       "      <td>6</td>\n",
       "      <td>7</td>\n",
       "      <td>...</td>\n",
       "      <td>More than 5 years</td>\n",
       "      <td>Weekly</td>\n",
       "      <td>20%-30%</td>\n",
       "      <td>Mutual Fund</td>\n",
       "      <td>Health Care</td>\n",
       "      <td>Dividend</td>\n",
       "      <td>Better Returns</td>\n",
       "      <td>Safe Investment</td>\n",
       "      <td>High Interest Rates</td>\n",
       "      <td>Financial Consultants</td>\n",
       "    </tr>\n",
       "    <tr>\n",
       "      <th>2</th>\n",
       "      <td>Male</td>\n",
       "      <td>30</td>\n",
       "      <td>Yes</td>\n",
       "      <td>3</td>\n",
       "      <td>6</td>\n",
       "      <td>4</td>\n",
       "      <td>2</td>\n",
       "      <td>5</td>\n",
       "      <td>1</td>\n",
       "      <td>7</td>\n",
       "      <td>...</td>\n",
       "      <td>3-5 years</td>\n",
       "      <td>Daily</td>\n",
       "      <td>20%-30%</td>\n",
       "      <td>Equity</td>\n",
       "      <td>Retirement Plan</td>\n",
       "      <td>Capital Appreciation</td>\n",
       "      <td>Tax Benefits</td>\n",
       "      <td>Assured Returns</td>\n",
       "      <td>Fixed Returns</td>\n",
       "      <td>Television</td>\n",
       "    </tr>\n",
       "    <tr>\n",
       "      <th>3</th>\n",
       "      <td>Male</td>\n",
       "      <td>22</td>\n",
       "      <td>Yes</td>\n",
       "      <td>2</td>\n",
       "      <td>1</td>\n",
       "      <td>3</td>\n",
       "      <td>7</td>\n",
       "      <td>6</td>\n",
       "      <td>4</td>\n",
       "      <td>5</td>\n",
       "      <td>...</td>\n",
       "      <td>Less than 1 year</td>\n",
       "      <td>Daily</td>\n",
       "      <td>10%-20%</td>\n",
       "      <td>Equity</td>\n",
       "      <td>Retirement Plan</td>\n",
       "      <td>Dividend</td>\n",
       "      <td>Fund Diversification</td>\n",
       "      <td>Tax Incentives</td>\n",
       "      <td>High Interest Rates</td>\n",
       "      <td>Internet</td>\n",
       "    </tr>\n",
       "    <tr>\n",
       "      <th>4</th>\n",
       "      <td>Female</td>\n",
       "      <td>24</td>\n",
       "      <td>No</td>\n",
       "      <td>2</td>\n",
       "      <td>1</td>\n",
       "      <td>3</td>\n",
       "      <td>6</td>\n",
       "      <td>4</td>\n",
       "      <td>5</td>\n",
       "      <td>7</td>\n",
       "      <td>...</td>\n",
       "      <td>Less than 1 year</td>\n",
       "      <td>Daily</td>\n",
       "      <td>20%-30%</td>\n",
       "      <td>Equity</td>\n",
       "      <td>Retirement Plan</td>\n",
       "      <td>Capital Appreciation</td>\n",
       "      <td>Better Returns</td>\n",
       "      <td>Safe Investment</td>\n",
       "      <td>Risk Free</td>\n",
       "      <td>Internet</td>\n",
       "    </tr>\n",
       "  </tbody>\n",
       "</table>\n",
       "<p>5 rows × 24 columns</p>\n",
       "</div>"
      ],
      "text/plain": [
       "   gender  age Investment_Avenues  Mutual_Funds  Equity_Market  Debentures  \\\n",
       "0  Female   34                Yes             1              2           5   \n",
       "1  Female   23                Yes             4              3           2   \n",
       "2    Male   30                Yes             3              6           4   \n",
       "3    Male   22                Yes             2              1           3   \n",
       "4  Female   24                 No             2              1           3   \n",
       "\n",
       "   Government_Bonds  Fixed_Deposits  PPF  Gold  ...           Duration  \\\n",
       "0                 3               7    6     4  ...          1-3 years   \n",
       "1                 1               5    6     7  ...  More than 5 years   \n",
       "2                 2               5    1     7  ...          3-5 years   \n",
       "3                 7               6    4     5  ...   Less than 1 year   \n",
       "4                 6               4    5     7  ...   Less than 1 year   \n",
       "\n",
       "  Invest_Monitor   Expect       Avenue What are your savings objectives?  \\\n",
       "0        Monthly  20%-30%  Mutual Fund                   Retirement Plan   \n",
       "1         Weekly  20%-30%  Mutual Fund                       Health Care   \n",
       "2          Daily  20%-30%       Equity                   Retirement Plan   \n",
       "3          Daily  10%-20%       Equity                   Retirement Plan   \n",
       "4          Daily  20%-30%       Equity                   Retirement Plan   \n",
       "\n",
       "          Reason_Equity         Reason_Mutual     Reason_Bonds  \\\n",
       "0  Capital Appreciation        Better Returns  Safe Investment   \n",
       "1              Dividend        Better Returns  Safe Investment   \n",
       "2  Capital Appreciation          Tax Benefits  Assured Returns   \n",
       "3              Dividend  Fund Diversification   Tax Incentives   \n",
       "4  Capital Appreciation        Better Returns  Safe Investment   \n",
       "\n",
       "             Reason_FD                    Source  \n",
       "0        Fixed Returns  Newspapers and Magazines  \n",
       "1  High Interest Rates     Financial Consultants  \n",
       "2        Fixed Returns                Television  \n",
       "3  High Interest Rates                  Internet  \n",
       "4            Risk Free                  Internet  \n",
       "\n",
       "[5 rows x 24 columns]"
      ]
     },
     "execution_count": 2,
     "metadata": {},
     "output_type": "execute_result"
    }
   ],
   "source": [
    "df = pd.read_csv(\"Financial Dataset.csv\")\n",
    "df.head(5)"
   ]
  },
  {
   "cell_type": "code",
   "execution_count": 3,
   "id": "f6473efb-491b-4837-9a37-4ee1ea6090a9",
   "metadata": {},
   "outputs": [
    {
     "name": "stdout",
     "output_type": "stream",
     "text": [
      "Index(['gender', 'age', 'Investment_Avenues', 'Mutual_Funds', 'Equity_Market',\n",
      "       'Debentures', 'Government_Bonds', 'Fixed_Deposits', 'PPF', 'Gold',\n",
      "       'Stock_Marktet', 'Factor', 'Objective', 'Purpose', 'Duration',\n",
      "       'Invest_Monitor', 'Expect', 'Avenue',\n",
      "       'What are your savings objectives?', 'Reason_Equity', 'Reason_Mutual',\n",
      "       'Reason_Bonds', 'Reason_FD', 'Source'],\n",
      "      dtype='object')\n"
     ]
    }
   ],
   "source": [
    "print(df.columns)"
   ]
  },
  {
   "cell_type": "code",
   "execution_count": 4,
   "id": "e1b34dfc-9fef-4b51-954b-b5e707f04466",
   "metadata": {},
   "outputs": [
    {
     "name": "stdout",
     "output_type": "stream",
     "text": [
      "<class 'pandas.core.frame.DataFrame'>\n",
      "RangeIndex: 40 entries, 0 to 39\n",
      "Data columns (total 24 columns):\n",
      " #   Column                             Non-Null Count  Dtype \n",
      "---  ------                             --------------  ----- \n",
      " 0   gender                             40 non-null     object\n",
      " 1   age                                40 non-null     int64 \n",
      " 2   Investment_Avenues                 40 non-null     object\n",
      " 3   Mutual_Funds                       40 non-null     int64 \n",
      " 4   Equity_Market                      40 non-null     int64 \n",
      " 5   Debentures                         40 non-null     int64 \n",
      " 6   Government_Bonds                   40 non-null     int64 \n",
      " 7   Fixed_Deposits                     40 non-null     int64 \n",
      " 8   PPF                                40 non-null     int64 \n",
      " 9   Gold                               40 non-null     int64 \n",
      " 10  Stock_Marktet                      40 non-null     object\n",
      " 11  Factor                             40 non-null     object\n",
      " 12  Objective                          40 non-null     object\n",
      " 13  Purpose                            40 non-null     object\n",
      " 14  Duration                           40 non-null     object\n",
      " 15  Invest_Monitor                     40 non-null     object\n",
      " 16  Expect                             40 non-null     object\n",
      " 17  Avenue                             40 non-null     object\n",
      " 18  What are your savings objectives?  40 non-null     object\n",
      " 19  Reason_Equity                      40 non-null     object\n",
      " 20  Reason_Mutual                      40 non-null     object\n",
      " 21  Reason_Bonds                       40 non-null     object\n",
      " 22  Reason_FD                          40 non-null     object\n",
      " 23  Source                             40 non-null     object\n",
      "dtypes: int64(8), object(16)\n",
      "memory usage: 7.6+ KB\n"
     ]
    }
   ],
   "source": [
    "df.info()"
   ]
  },
  {
   "cell_type": "markdown",
   "id": "05ac5fed-e9f2-4aba-b5e0-625da2e87273",
   "metadata": {},
   "source": [
    "---\n",
    "---"
   ]
  },
  {
   "cell_type": "markdown",
   "id": "a2f9b06a-075c-4cde-b092-9f85c439a119",
   "metadata": {},
   "source": [
    "## 2. Gender Distribution"
   ]
  },
  {
   "cell_type": "markdown",
   "id": "c2d407c7-5a46-4c33-a357-9a67418de29c",
   "metadata": {},
   "source": [
    "### To extract gender column"
   ]
  },
  {
   "cell_type": "code",
   "execution_count": 5,
   "id": "b69baab5-27f8-4816-ba82-37eff4469396",
   "metadata": {},
   "outputs": [
    {
     "data": {
      "text/plain": [
       "0     Female\n",
       "1     Female\n",
       "2       Male\n",
       "3       Male\n",
       "4     Female\n",
       "5     Female\n",
       "6     Female\n",
       "7       Male\n",
       "8       Male\n",
       "9       Male\n",
       "10    Female\n",
       "11      Male\n",
       "12    Female\n",
       "13    Female\n",
       "14    Female\n",
       "15      Male\n",
       "16    Female\n",
       "17      Male\n",
       "18      Male\n",
       "19      Male\n",
       "20      Male\n",
       "21    Female\n",
       "22      Male\n",
       "23      Male\n",
       "24    Female\n",
       "25    Female\n",
       "26      Male\n",
       "27      Male\n",
       "28      Male\n",
       "29    Female\n",
       "30      Male\n",
       "31    Female\n",
       "32      Male\n",
       "33      Male\n",
       "34      Male\n",
       "35      Male\n",
       "36      Male\n",
       "37      Male\n",
       "38      Male\n",
       "39      Male\n",
       "Name: gender, dtype: object"
      ]
     },
     "execution_count": 5,
     "metadata": {},
     "output_type": "execute_result"
    }
   ],
   "source": [
    "gender_data = df['gender']\n",
    "gender_data"
   ]
  },
  {
   "cell_type": "markdown",
   "id": "d3288253-0b12-491f-9f2c-107a66691177",
   "metadata": {},
   "source": [
    "### No. of patrticipants based on gender"
   ]
  },
  {
   "cell_type": "code",
   "execution_count": 6,
   "id": "10df5bd0-9df7-4e7e-b6c7-1369f935d349",
   "metadata": {},
   "outputs": [
    {
     "data": {
      "text/plain": [
       "gender\n",
       "Male      25\n",
       "Female    15\n",
       "Name: count, dtype: int64"
      ]
     },
     "execution_count": 6,
     "metadata": {},
     "output_type": "execute_result"
    }
   ],
   "source": [
    "gender_count = gender_data.value_counts()\n",
    "gender_count"
   ]
  },
  {
   "cell_type": "code",
   "execution_count": 7,
   "id": "9efdf67d-5313-42bd-a9ba-2f0b85dbbdf4",
   "metadata": {},
   "outputs": [
    {
     "data": {
      "image/png": "[encoded data removed]",
      "text/plain": [
       "<Figure size 640x480 with 1 Axes>"
      ]
     },
     "metadata": {},
     "output_type": "display_data"
    }
   ],
   "source": [
    "gender_count.plot(kind=\"bar\")\n",
    "plt.title('Gender Distribution')\n",
    "plt.xlabel('Gender')\n",
    "plt.ylabel('Counts')\n",
    "plt.show()"
   ]
  },
  {
   "cell_type": "markdown",
   "id": "5ea5f26e-9a12-4b91-8b31-43f9252f38af",
   "metadata": {},
   "source": [
    "---\n",
    "---"
   ]
  },
  {
   "attachments": {},
   "cell_type": "markdown",
   "id": "661b0c86-81cf-4f11-9774-3df4d171db20",
   "metadata": {},
   "source": [
    "## 3.Descriptive Statistics "
   ]
  },
  {
   "cell_type": "code",
   "execution_count": 8,
   "id": "bd711e18-da5e-4d61-998d-602cf0c385b2",
   "metadata": {},
   "outputs": [
    {
     "name": "stdout",
     "output_type": "stream",
     "text": [
      "Numerical Columns: Index(['age', 'Mutual_Funds', 'Equity_Market', 'Debentures',\n",
      "       'Government_Bonds', 'Fixed_Deposits', 'PPF', 'Gold'],\n",
      "      dtype='object')\n"
     ]
    }
   ],
   "source": [
    "numerical_columns = df.select_dtypes('int64').columns\n",
    "print(\"Numerical Columns:\", numerical_columns)"
   ]
  },
  {
   "cell_type": "code",
   "execution_count": 9,
   "id": "b42475d1-bff4-44ac-8d92-2b6d654c1786",
   "metadata": {
    "scrolled": true
   },
   "outputs": [
    {
     "data": {
      "text/html": [
       "<div>\n",
       "<style scoped>\n",
       "    .dataframe tbody tr th:only-of-type {\n",
       "        vertical-align: middle;\n",
       "    }\n",
       "\n",
       "    .dataframe tbody tr th {\n",
       "        vertical-align: top;\n",
       "    }\n",
       "\n",
       "    .dataframe thead th {\n",
       "        text-align: right;\n",
       "    }\n",
       "</style>\n",
       "<table border=\"1\" class=\"dataframe\">\n",
       "  <thead>\n",
       "    <tr style=\"text-align: right;\">\n",
       "      <th></th>\n",
       "      <th>age</th>\n",
       "      <th>Mutual_Funds</th>\n",
       "      <th>Equity_Market</th>\n",
       "      <th>Debentures</th>\n",
       "      <th>Government_Bonds</th>\n",
       "      <th>Fixed_Deposits</th>\n",
       "      <th>PPF</th>\n",
       "      <th>Gold</th>\n",
       "    </tr>\n",
       "  </thead>\n",
       "  <tbody>\n",
       "    <tr>\n",
       "      <th>count</th>\n",
       "      <td>40.000000</td>\n",
       "      <td>40.000000</td>\n",
       "      <td>40.000000</td>\n",
       "      <td>40.000000</td>\n",
       "      <td>40.000000</td>\n",
       "      <td>40.000000</td>\n",
       "      <td>40.000000</td>\n",
       "      <td>40.000000</td>\n",
       "    </tr>\n",
       "    <tr>\n",
       "      <th>mean</th>\n",
       "      <td>27.800000</td>\n",
       "      <td>2.550000</td>\n",
       "      <td>3.475000</td>\n",
       "      <td>5.750000</td>\n",
       "      <td>4.650000</td>\n",
       "      <td>3.575000</td>\n",
       "      <td>2.025000</td>\n",
       "      <td>5.975000</td>\n",
       "    </tr>\n",
       "    <tr>\n",
       "      <th>std</th>\n",
       "      <td>3.560467</td>\n",
       "      <td>1.197219</td>\n",
       "      <td>1.131994</td>\n",
       "      <td>1.675617</td>\n",
       "      <td>1.369072</td>\n",
       "      <td>1.795828</td>\n",
       "      <td>1.609069</td>\n",
       "      <td>1.143263</td>\n",
       "    </tr>\n",
       "    <tr>\n",
       "      <th>min</th>\n",
       "      <td>21.000000</td>\n",
       "      <td>1.000000</td>\n",
       "      <td>1.000000</td>\n",
       "      <td>1.000000</td>\n",
       "      <td>1.000000</td>\n",
       "      <td>1.000000</td>\n",
       "      <td>1.000000</td>\n",
       "      <td>2.000000</td>\n",
       "    </tr>\n",
       "    <tr>\n",
       "      <th>25%</th>\n",
       "      <td>25.750000</td>\n",
       "      <td>2.000000</td>\n",
       "      <td>3.000000</td>\n",
       "      <td>5.000000</td>\n",
       "      <td>4.000000</td>\n",
       "      <td>2.750000</td>\n",
       "      <td>1.000000</td>\n",
       "      <td>6.000000</td>\n",
       "    </tr>\n",
       "    <tr>\n",
       "      <th>50%</th>\n",
       "      <td>27.000000</td>\n",
       "      <td>2.000000</td>\n",
       "      <td>4.000000</td>\n",
       "      <td>6.500000</td>\n",
       "      <td>5.000000</td>\n",
       "      <td>3.500000</td>\n",
       "      <td>1.000000</td>\n",
       "      <td>6.000000</td>\n",
       "    </tr>\n",
       "    <tr>\n",
       "      <th>75%</th>\n",
       "      <td>30.000000</td>\n",
       "      <td>3.000000</td>\n",
       "      <td>4.000000</td>\n",
       "      <td>7.000000</td>\n",
       "      <td>5.000000</td>\n",
       "      <td>5.000000</td>\n",
       "      <td>2.250000</td>\n",
       "      <td>7.000000</td>\n",
       "    </tr>\n",
       "    <tr>\n",
       "      <th>max</th>\n",
       "      <td>35.000000</td>\n",
       "      <td>7.000000</td>\n",
       "      <td>6.000000</td>\n",
       "      <td>7.000000</td>\n",
       "      <td>7.000000</td>\n",
       "      <td>7.000000</td>\n",
       "      <td>6.000000</td>\n",
       "      <td>7.000000</td>\n",
       "    </tr>\n",
       "  </tbody>\n",
       "</table>\n",
       "</div>"
      ],
      "text/plain": [
       "             age  Mutual_Funds  Equity_Market  Debentures  Government_Bonds  \\\n",
       "count  40.000000     40.000000      40.000000   40.000000         40.000000   \n",
       "mean   27.800000      2.550000       3.475000    5.750000          4.650000   \n",
       "std     3.560467      1.197219       1.131994    1.675617          1.369072   \n",
       "min    21.000000      1.000000       1.000000    1.000000          1.000000   \n",
       "25%    25.750000      2.000000       3.000000    5.000000          4.000000   \n",
       "50%    27.000000      2.000000       4.000000    6.500000          5.000000   \n",
       "75%    30.000000      3.000000       4.000000    7.000000          5.000000   \n",
       "max    35.000000      7.000000       6.000000    7.000000          7.000000   \n",
       "\n",
       "       Fixed_Deposits        PPF       Gold  \n",
       "count       40.000000  40.000000  40.000000  \n",
       "mean         3.575000   2.025000   5.975000  \n",
       "std          1.795828   1.609069   1.143263  \n",
       "min          1.000000   1.000000   2.000000  \n",
       "25%          2.750000   1.000000   6.000000  \n",
       "50%          3.500000   1.000000   6.000000  \n",
       "75%          5.000000   2.250000   7.000000  \n",
       "max          7.000000   6.000000   7.000000  "
      ]
     },
     "execution_count": 9,
     "metadata": {},
     "output_type": "execute_result"
    }
   ],
   "source": [
    "df[numerical_columns].describe()"
   ]
  },
  {
   "cell_type": "markdown",
   "id": "a4e02edf-063e-4ad1-8255-5ebb2e876da4",
   "metadata": {},
   "source": [
    "---\n",
    "---"
   ]
  },
  {
   "cell_type": "markdown",
   "id": "7815619f-c36d-4f51-a317-074cd136e436",
   "metadata": {},
   "source": [
    "## 4. Most Preferred Investment Avenue"
   ]
  },
  {
   "cell_type": "code",
   "execution_count": 10,
   "id": "d3ed8b0e-abec-49d2-9d06-b07bfd63b43c",
   "metadata": {},
   "outputs": [],
   "source": [
    "investment_cloumns = ['Mutual_Funds', 'Equity_Market', 'Debentures',\n",
    "       'Government_Bonds', 'Fixed_Deposits', 'PPF', 'Gold']"
   ]
  },
  {
   "cell_type": "code",
   "execution_count": 11,
   "id": "9fd0df50-f315-4d3b-8cf4-b69b494d71da",
   "metadata": {},
   "outputs": [
    {
     "name": "stdout",
     "output_type": "stream",
     "text": [
      "Each investment avenue\n",
      "Mutual_Funds: 102\n",
      "Equity_Market: 139\n",
      "Debentures: 230\n",
      "Government_Bonds: 186\n",
      "Fixed_Deposits: 143\n",
      "PPF: 81\n",
      "Gold: 239\n"
     ]
    }
   ],
   "source": [
    "avenue_counts = {}\n",
    "\n",
    "for col in investment_cloumns:\n",
    "    avenue_counts[col] = df[col].sum()\n",
    "\n",
    "print(\"Each investment avenue\")\n",
    "for avenue, count in avenue_counts.items():\n",
    "    print(f\"{avenue}: {count}\")"
   ]
  },
  {
   "cell_type": "code",
   "execution_count": 12,
   "id": "97412adc-87f7-4661-8bb8-c1ec86fa04a9",
   "metadata": {},
   "outputs": [
    {
     "name": "stdout",
     "output_type": "stream",
     "text": [
      "Most Prefered Investment Avenue: Gold (239)\n"
     ]
    }
   ],
   "source": [
    "most_prefered = max(avenue_counts,key=avenue_counts.get)\n",
    "print(f\"Most Prefered Investment Avenue: {most_prefered} ({avenue_counts[most_prefered]})\")"
   ]
  },
  {
   "cell_type": "markdown",
   "id": "76a5d469-ecde-4919-bfcc-9d00024f853b",
   "metadata": {},
   "source": [
    "### Convert dictionery to series to show bar chart"
   ]
  },
  {
   "cell_type": "code",
   "execution_count": 13,
   "id": "1fb0511c-f153-4bf5-8a3b-0eb1c3b6cc3b",
   "metadata": {
    "scrolled": true
   },
   "outputs": [
    {
     "data": {
      "image/png": "[encoded data removed]",
      "text/plain": [
       "<Figure size 640x480 with 1 Axes>"
      ]
     },
     "metadata": {},
     "output_type": "display_data"
    }
   ],
   "source": [
    "avenue_series = pd.Series(avenue_counts)\n",
    "avenue_series_sorted = avenue_series.sort_values(ascending= False)\n",
    "\n",
    "avenue_series_sorted.plot(kind=\"bar\")\n",
    "plt.title(\"Most Prefered Investment\")\n",
    "plt.xlabel(\"Investments\")\n",
    "plt.ylabel(\"Counts\")\n",
    "plt.xticks(rotation=45)\n",
    "plt.show()"
   ]
  },
  {
   "cell_type": "markdown",
   "id": "054e744f-eb37-4b97-a898-041ae229d586",
   "metadata": {},
   "source": [
    "---\n",
    "---"
   ]
  },
  {
   "cell_type": "markdown",
   "id": "3247a271-4e93-4299-b035-7d07b3f559ba",
   "metadata": {},
   "source": [
    "## 5.  Reasons for Investment "
   ]
  },
  {
   "cell_type": "code",
   "execution_count": 14,
   "id": "ba878185-cb64-493f-904b-b0d07f65ae8e",
   "metadata": {},
   "outputs": [
    {
     "name": "stdout",
     "output_type": "stream",
     "text": [
      "          Reason_Equity         Reason_Mutual     Reason_Bonds  \\\n",
      "0  Capital Appreciation        Better Returns  Safe Investment   \n",
      "1              Dividend        Better Returns  Safe Investment   \n",
      "2  Capital Appreciation          Tax Benefits  Assured Returns   \n",
      "3              Dividend  Fund Diversification   Tax Incentives   \n",
      "4  Capital Appreciation        Better Returns  Safe Investment   \n",
      "\n",
      "             Reason_FD  \n",
      "0        Fixed Returns  \n",
      "1  High Interest Rates  \n",
      "2        Fixed Returns  \n",
      "3  High Interest Rates  \n",
      "4            Risk Free  \n"
     ]
    }
   ],
   "source": [
    "print(df[['Reason_Equity', 'Reason_Mutual',\n",
    "       'Reason_Bonds', 'Reason_FD']].head())"
   ]
  },
  {
   "cell_type": "markdown",
   "id": "45603ad8-6279-41e0-afb4-5f8c6bdc93eb",
   "metadata": {},
   "source": [
    "### For exploring reasons columns and to see unique reasons"
   ]
  },
  {
   "cell_type": "code",
   "execution_count": 15,
   "id": "d348c270-74a5-4008-962f-df55cb5d3dd0",
   "metadata": {
    "scrolled": true
   },
   "outputs": [
    {
     "name": "stdout",
     "output_type": "stream",
     "text": [
      "Unique reasons for Reason_Equity:\n",
      "['Capital Appreciation' 'Dividend' 'Liquidity']\n",
      "Unique reasons for Reason_Mutual:\n",
      "['Better Returns' 'Tax Benefits' 'Fund Diversification']\n",
      "Unique reasons for Reason_Bonds:\n",
      "['Safe Investment' 'Assured Returns' 'Tax Incentives']\n",
      "Unique reasons for Reason_FD:\n",
      "['Fixed Returns' 'High Interest Rates' 'Risk Free']\n"
     ]
    }
   ],
   "source": [
    "for columns in ['Reason_Equity', 'Reason_Mutual', 'Reason_Bonds', 'Reason_FD']:\n",
    "    print(f\"Unique reasons for {columns}:\")\n",
    "    print(df[columns].unique())"
   ]
  },
  {
   "cell_type": "markdown",
   "id": "dcbeb34c-8be4-47f2-a38d-0852fe8954aa",
   "metadata": {},
   "source": [
    "## To see the purpose of investment"
   ]
  },
  {
   "cell_type": "code",
   "execution_count": 16,
   "id": "120221ec-0f1c-4e22-a6a0-7a1db558282f",
   "metadata": {},
   "outputs": [
    {
     "name": "stdout",
     "output_type": "stream",
     "text": [
      "Top reasons for Reason_Equity:\n",
      "Reason_Equity\n",
      "Capital Appreciation    30\n",
      "Dividend                 8\n",
      "Liquidity                2\n",
      "Name: count, dtype: int64\n",
      "Top reasons for Reason_Mutual:\n",
      "Reason_Mutual\n",
      "Better Returns          24\n",
      "Fund Diversification    13\n",
      "Tax Benefits             3\n",
      "Name: count, dtype: int64\n",
      "Top reasons for Reason_Bonds:\n",
      "Reason_Bonds\n",
      "Assured Returns    26\n",
      "Safe Investment    13\n",
      "Tax Incentives      1\n",
      "Name: count, dtype: int64\n",
      "Top reasons for Reason_FD:\n",
      "Reason_FD\n",
      "Risk Free              19\n",
      "Fixed Returns          18\n",
      "High Interest Rates     3\n",
      "Name: count, dtype: int64\n"
     ]
    }
   ],
   "source": [
    "for columns in ['Reason_Equity', 'Reason_Mutual', 'Reason_Bonds', 'Reason_FD']:\n",
    "    \n",
    "    print(f\"Top reasons for {columns}:\")\n",
    "    print(df[columns].value_counts())"
   ]
  },
  {
   "cell_type": "markdown",
   "id": "3ecef06a-dc49-41a3-883e-52d90fcbdea5",
   "metadata": {},
   "source": [
    "# Top Reasons for Investment Choices\n",
    "\n",
    "## Equity:\n",
    "#### Investors primarily choose equity markets for capital appreciation, aiming to grow their wealth over the long term through higher returns.\n",
    "\n",
    "## Mutual Funds:\n",
    "#### Mutual funds are favored for delivering better returns while offering diversification.\n",
    "\n",
    "## Bonds:\n",
    "#### Bonds are mainly selected for their assured returns, providing a sense of safety.\n",
    "\n",
    "## Fixed Deposits:\n",
    "#### Fixed deposits attract investors who prefer risk-free options and fixed returns, ensuring capital protection and guaranteed interest."
   ]
  },
  {
   "cell_type": "markdown",
   "id": "bbe46253-a254-4861-8c59-4270a49dc293",
   "metadata": {},
   "source": [
    "---\n",
    "---\n"
   ]
  },
  {
   "cell_type": "markdown",
   "id": "9cb9d2a0-0a1e-463c-aff2-d9a76c30ff4e",
   "metadata": {},
   "source": [
    "## 6. Savings Objectives"
   ]
  },
  {
   "cell_type": "code",
   "execution_count": 17,
   "id": "8c6ac044-98d7-4a1f-8277-bdfd355e16b2",
   "metadata": {},
   "outputs": [
    {
     "name": "stdout",
     "output_type": "stream",
     "text": [
      "35        Health Care\n",
      "36    Retirement Plan\n",
      "37        Health Care\n",
      "38        Health Care\n",
      "39    Retirement Plan\n",
      "Name: What are your savings objectives?, dtype: object\n"
     ]
    }
   ],
   "source": [
    "print(df[\"What are your savings objectives?\"].tail())"
   ]
  },
  {
   "cell_type": "code",
   "execution_count": 18,
   "id": "629c9988-97c3-4805-942c-64913b756eb8",
   "metadata": {},
   "outputs": [
    {
     "name": "stdout",
     "output_type": "stream",
     "text": [
      "What are your savings objectives?\n",
      "Retirement Plan    24\n",
      "Health Care        13\n",
      "Education           3\n",
      "Name: count, dtype: int64\n"
     ]
    }
   ],
   "source": [
    "objectives_counts = df[\"What are your savings objectives?\"]. value_counts()\n",
    "print(objectives_counts)"
   ]
  },
  {
   "cell_type": "markdown",
   "id": "f6a3773a-4fd3-4771-b87a-ee9b06070548",
   "metadata": {},
   "source": [
    "## Main Savings Objective\n",
    "### Retirement Plan:\n",
    "#### The majority of  participants are saving to ensure a financially secure and independent life after retirement.\n",
    "\n"
   ]
  },
  {
   "cell_type": "markdown",
   "id": "8b4de8b7-3cdd-476d-991c-83a70e1940f7",
   "metadata": {},
   "source": [
    "---\n",
    "---"
   ]
  },
  {
   "cell_type": "markdown",
   "id": "fcb3b14c-b771-4f0f-9e48-11f813f81da7",
   "metadata": {},
   "source": [
    "## 7. Common Information Sources"
   ]
  },
  {
   "cell_type": "code",
   "execution_count": 19,
   "id": "4e4fb4d4-41ab-4c5b-8250-63ad1d0ff7e3",
   "metadata": {},
   "outputs": [
    {
     "name": "stdout",
     "output_type": "stream",
     "text": [
      "0    Newspapers and Magazines\n",
      "1       Financial Consultants\n",
      "2                  Television\n",
      "3                    Internet\n",
      "4                    Internet\n",
      "Name: Source, dtype: object\n"
     ]
    }
   ],
   "source": [
    "print(df[\"Source\"].head())"
   ]
  },
  {
   "cell_type": "code",
   "execution_count": 20,
   "id": "61baeaec-05e8-40ba-905b-1c840e57b16d",
   "metadata": {},
   "outputs": [
    {
     "name": "stdout",
     "output_type": "stream",
     "text": [
      "Source\n",
      "Financial Consultants       16\n",
      "Newspapers and Magazines    14\n",
      "Television                   6\n",
      "Internet                     4\n",
      "Name: count, dtype: int64\n"
     ]
    }
   ],
   "source": [
    "Source_counts = df[\"Source\"].value_counts()\n",
    "print(Source_counts)"
   ]
  },
  {
   "cell_type": "markdown",
   "id": "f21da430-f6e2-476d-b413-828df969e75d",
   "metadata": {},
   "source": [
    "## The most common sources participants rely on for investment information are financial consultants, who provide expert advice, and newspapers and magazines, which keep them updated on market trends and financial news.\n"
   ]
  },
  {
   "cell_type": "markdown",
   "id": "51cd19e3-c23e-47c1-bda1-d914ca16d51e",
   "metadata": {},
   "source": [
    "***\n",
    "---"
   ]
  },
  {
   "cell_type": "markdown",
   "id": "95bc8cf6-d8c9-4f0d-8455-b0d0cc58389e",
   "metadata": {},
   "source": [
    "## 8.  Investment Duration"
   ]
  },
  {
   "cell_type": "code",
   "execution_count": 21,
   "id": "da6ca84f-5162-4027-acce-aebcb041eb31",
   "metadata": {},
   "outputs": [
    {
     "name": "stdout",
     "output_type": "stream",
     "text": [
      "['1-3 years' 'More than 5 years' '3-5 years' 'Less than 1 year']\n",
      "object\n"
     ]
    }
   ],
   "source": [
    "print(df[\"Duration\"].unique())\n",
    "print(df[\"Duration\"].dtype)"
   ]
  },
  {
   "cell_type": "markdown",
   "id": "949c148c-1fcd-43ba-96c1-eac6b9b973ee",
   "metadata": {},
   "source": [
    "### The \"Duration\" column contains text datatype, so it is converted to numeric values to calculate the average duration accurately. "
   ]
  },
  {
   "cell_type": "code",
   "execution_count": 22,
   "id": "3e279b3f-f1aa-4baa-b24c-1b1f20fda058",
   "metadata": {},
   "outputs": [
    {
     "name": "stdout",
     "output_type": "stream",
     "text": [
      "            Duration  Duration_num\n",
      "0          1-3 years           2.0\n",
      "1  More than 5 years           6.0\n",
      "2          3-5 years           4.0\n",
      "3   Less than 1 year           0.5\n",
      "4   Less than 1 year           0.5\n"
     ]
    }
   ],
   "source": [
    "Duration_mapping = {\n",
    "    '1-3 years': 2.0,\n",
    "    'More than 5 years':6.0,\n",
    "    '3-5 years':4.0,\n",
    "    'Less than 1 year':0.5\n",
    "}\n",
    "\n",
    "df['Duration_num'] = df['Duration'].map(Duration_mapping)\n",
    "print(df[['Duration','Duration_num']].head())"
   ]
  },
  {
   "cell_type": "code",
   "execution_count": 23,
   "id": "0c301fb1-7671-4622-9ece-7b7876bcfbeb",
   "metadata": {},
   "outputs": [
    {
     "name": "stdout",
     "output_type": "stream",
     "text": [
      "The average investment duration is approximately 3.0 years.\n"
     ]
    }
   ],
   "source": [
    "Duration_average = df['Duration_num'].mean()\n",
    "print(f\"The average investment duration is approximately {Duration_average:.1f} years.\")"
   ]
  },
  {
   "cell_type": "markdown",
   "id": "a9d77e10-354f-4076-a846-9d05b246928c",
   "metadata": {},
   "source": [
    "---\n",
    "---"
   ]
  },
  {
   "cell_type": "markdown",
   "id": "a2200a98-f4e4-41cd-915b-1ce4afe9248a",
   "metadata": {},
   "source": [
    "## 9. Expectations from Investments"
   ]
  },
  {
   "cell_type": "code",
   "execution_count": 24,
   "id": "4c35920f-e234-4550-93fa-6fd832dda8ae",
   "metadata": {},
   "outputs": [
    {
     "data": {
      "text/plain": [
       "0    20%-30%\n",
       "1    20%-30%\n",
       "2    20%-30%\n",
       "3    10%-20%\n",
       "4    20%-30%\n",
       "Name: Expect, dtype: object"
      ]
     },
     "execution_count": 24,
     "metadata": {},
     "output_type": "execute_result"
    }
   ],
   "source": [
    "df['Expect'].head()"
   ]
  },
  {
   "cell_type": "code",
   "execution_count": 25,
   "id": "cbc12947-d757-42bd-b363-1fd98685dd82",
   "metadata": {},
   "outputs": [
    {
     "data": {
      "text/plain": [
       "array(['20%-30%', '10%-20%', '30%-40%'], dtype=object)"
      ]
     },
     "execution_count": 25,
     "metadata": {},
     "output_type": "execute_result"
    }
   ],
   "source": [
    "df['Expect'].unique()"
   ]
  },
  {
   "cell_type": "code",
   "execution_count": 26,
   "id": "fce02cf9-35b6-4eb9-a303-123acb8d1dfd",
   "metadata": {},
   "outputs": [
    {
     "name": "stdout",
     "output_type": "stream",
     "text": [
      "Expect\n",
      "20%-30%    32\n",
      "30%-40%     5\n",
      "10%-20%     3\n",
      "Name: count, dtype: int64\n"
     ]
    }
   ],
   "source": [
    "Expections_counts = df['Expect'].value_counts()\n",
    "print(Expections_counts)"
   ]
  },
  {
   "cell_type": "code",
   "execution_count": 27,
   "id": "5ef3b5d3-2367-4c2f-8858-8f9b8d8d3a79",
   "metadata": {},
   "outputs": [
    {
     "data": {
      "image/png": "[encoded data removed]",
      "text/plain": [
       "<Figure size 640x480 with 1 Axes>"
      ]
     },
     "metadata": {},
     "output_type": "display_data"
    }
   ],
   "source": [
    "Expections_counts.plot(kind=\"bar\")\n",
    "plt.title(\"Investment Expections\")\n",
    "plt.xlabel(\"Expections\")\n",
    "plt.ylabel(\"No.of Participants\")\n",
    "plt.xticks(rotation=45)\n",
    "plt.show()"
   ]
  },
  {
   "cell_type": "markdown",
   "id": "99dc45d0-126a-40d3-8b47-9fb4c034ac45",
   "metadata": {},
   "source": [
    "---\n",
    "---"
   ]
  },
  {
   "cell_type": "markdown",
   "id": "8b95b100-a50a-4751-99de-006906a57cfe",
   "metadata": {},
   "source": [
    "## 10. Correlation Analysis"
   ]
  },
  {
   "cell_type": "code",
   "execution_count": 28,
   "id": "130ae5eb-6cd4-4911-ba4a-d5e07a368cbf",
   "metadata": {},
   "outputs": [
    {
     "name": "stdout",
     "output_type": "stream",
     "text": [
      "   age  Duration_num   Expect\n",
      "0   34           2.0  20%-30%\n",
      "1   23           6.0  20%-30%\n",
      "2   30           4.0  20%-30%\n",
      "3   22           0.5  10%-20%\n",
      "4   24           0.5  20%-30%\n"
     ]
    }
   ],
   "source": [
    "print(df[['age','Duration_num','Expect']].head())"
   ]
  },
  {
   "cell_type": "code",
   "execution_count": 29,
   "id": "e9b6e588-624c-4867-80cf-c9aaad37a8bf",
   "metadata": {},
   "outputs": [
    {
     "name": "stdout",
     "output_type": "stream",
     "text": [
      "age               int64\n",
      "Duration_num    float64\n",
      "Expect           object\n",
      "dtype: object\n"
     ]
    }
   ],
   "source": [
    "print(df[['age','Duration_num','Expect']].dtypes)"
   ]
  },
  {
   "cell_type": "markdown",
   "id": "9b96c2d1-c368-4928-b1f9-ec4166b24e29",
   "metadata": {},
   "source": [
    "### Convert \"Expect\" column datatype for correlation analysis"
   ]
  },
  {
   "cell_type": "code",
   "execution_count": 30,
   "id": "e1ceaff8-96a2-4c9f-a58b-1a7ffe22ddb9",
   "metadata": {},
   "outputs": [],
   "source": [
    "expect_mapping = {\n",
    "    '10%-20%': 15,\n",
    "    '20%-30%': 25,\n",
    "    '30%-40%': 35\n",
    "}\n",
    "df['Expect_Num'] = df['Expect'].map(expect_mapping)"
   ]
  },
  {
   "cell_type": "code",
   "execution_count": 31,
   "id": "aa0bba7d-775e-4282-8e7f-6d6bb8443e2b",
   "metadata": {},
   "outputs": [
    {
     "name": "stdout",
     "output_type": "stream",
     "text": [
      "age               int64\n",
      "Duration_num    float64\n",
      "Expect_Num        int64\n",
      "dtype: object\n"
     ]
    }
   ],
   "source": [
    "print(df[['age','Duration_num','Expect_Num']].dtypes)"
   ]
  },
  {
   "cell_type": "code",
   "execution_count": 32,
   "id": "c82a8524-5ad1-461f-a856-ef9f95ca0d66",
   "metadata": {},
   "outputs": [
    {
     "name": "stdout",
     "output_type": "stream",
     "text": [
      "Correlation Matrix:\n",
      "                   age  Duration_num  Expect_Num\n",
      "age           1.000000      0.051756   -0.089606\n",
      "Duration_num  0.051756      1.000000    0.258223\n",
      "Expect_Num   -0.089606      0.258223    1.000000\n"
     ]
    }
   ],
   "source": [
    "correlation_matrix = df[['age','Duration_num','Expect_Num']].corr()\n",
    "print(\"Correlation Matrix:\")\n",
    "print(correlation_matrix)"
   ]
  },
  {
   "cell_type": "markdown",
   "id": "844c7dd9-1ec2-4aba-94e3-b8da2c2f5a28",
   "metadata": {},
   "source": [
    "### Heatmap"
   ]
  },
  {
   "cell_type": "code",
   "execution_count": 33,
   "id": "4b3f3359-51a5-47c3-a374-f63b2197b6ab",
   "metadata": {
    "scrolled": true
   },
   "outputs": [
    {
     "data": {
      "image/png": "[encoded data removed]",
      "text/plain": [
       "<Figure size 600x400 with 2 Axes>"
      ]
     },
     "metadata": {},
     "output_type": "display_data"
    }
   ],
   "source": [
    "\n",
    "plt.figure(figsize=(6, 4))\n",
    "sns.heatmap(correlation_matrix, annot=True, cmap='coolwarm', fmt=\".2f\")\n",
    "plt.title(\"Correlation Matrix\")\n",
    "plt.tight_layout()\n",
    "plt.show()"
   ]
  },
  {
   "cell_type": "code",
   "execution_count": null,
   "id": "b0593e8d-31fd-480b-9f91-996e8fe3862a",
   "metadata": {},
   "outputs": [],
   "source": []
  }
 ],
 "metadata": {
  "kernelspec": {
   "display_name": "Python 3 (ipykernel)",
   "language": "python",
   "name": "python3"
  },
  "language_info": {
   "codemirror_mode": {
    "name": "ipython",
    "version": 3
   },
   "file_extension": ".py",
   "mimetype": "text/x-python",
   "name": "python",
   "nbconvert_exporter": "python",
   "pygments_lexer": "ipython3",
   "version": "3.10.11"
  }
 },
 "nbformat": 4,
 "nbformat_minor": 5
}
